{
 "cells": [
  {
   "cell_type": "code",
   "execution_count": null,
   "id": "c62e194a",
   "metadata": {},
   "outputs": [],
   "source": [
    "# 1. Import the necessary libraries.\n",
    "import pandas as pd\n",
    "import numpy as np\n",
    "import seaborn as sns\n",
    "import matplotlib.pyplot as plt"
   ]
  },
  {
   "cell_type": "code",
   "execution_count": null,
   "id": "82012160",
   "metadata": {},
   "outputs": [],
   "source": [
    "# 2. Load the `customer_value_analysis.csv` into the variable `customer_df`.\n",
    "customer_df = pd.read_csv('files_for_lab\\customer_value_analysis.csv')"
   ]
  },
  {
   "cell_type": "code",
   "execution_count": null,
   "id": "8563ea32",
   "metadata": {},
   "outputs": [],
   "source": [
    "# 3. First look at its main features (`head`, `shape`, `info`).\n",
    "display(customer_df.head())\n",
    "display(customer_df.shape)\n",
    "display(customer_df.info())"
   ]
  },
  {
   "cell_type": "code",
   "execution_count": null,
   "id": "510841cc",
   "metadata": {},
   "outputs": [],
   "source": [
    "# 4. Rename the columns so they follow the _PE8_ (snake case: lowecase_with_underscores).\n",
    "def col_rename (dframe: pd.DataFrame) -> pd.DataFrame:\n",
    "    \"\"\"\n",
    "    This function renames column names by removing spaces and converting to lower case\n",
    "    Inputs: dframe of type pandas dataframe\n",
    "    Outputs: returns the dataframe with the renamed columns\n",
    "    \"\"\"\n",
    "    cols =[]\n",
    "    for x in dframe.columns:\n",
    "        if isinstance(x, str):\n",
    "            cols.append(x.lower().replace(' ', '_'))\n",
    "        else:\n",
    "            cols.append(x)\n",
    "    if 'st' in cols:\n",
    "        index = cols.index('st')   \n",
    "        cols[index]='state'\n",
    "\n",
    "    dframe.columns=cols\n",
    "    return dframe\n",
    "\n",
    "col_rename(customer_df)\n",
    "customer_df.rename(columns={'employmentstatus': 'employment_status'}, inplace=True)\n",
    "\n",
    "customer_df"
   ]
  },
  {
   "cell_type": "code",
   "execution_count": null,
   "id": "dcde540c",
   "metadata": {},
   "outputs": [],
   "source": [
    "# 5. Change the type of `effective_to_date` column to DateTime format.\n",
    "customer_df['effective_to_date'] = pd.to_datetime(customer_df['effective_to_date'])\n",
    "customer_df.info()"
   ]
  },
  {
   "cell_type": "code",
   "execution_count": null,
   "id": "7b5ead1a",
   "metadata": {},
   "outputs": [],
   "source": [
    "# 6. Check `NaN` values per column.\n",
    "customer_df.isna().sum() #there are no NaN values in the dataframe"
   ]
  },
  {
   "cell_type": "code",
   "execution_count": null,
   "id": "55ff5eaa",
   "metadata": {},
   "outputs": [],
   "source": [
    "# 7. Define a function that given an input dataframe, returns two dataframes: one with numerical columns and another with categorical columns of the input dataframe.\n",
    "def split_df(df: pd.DataFrame):\n",
    "    num_df = df.select_dtypes(include='number')\n",
    "    cat_df = df.select_dtypes(include='object')\n",
    "    \n",
    "    return num_df, cat_df\n",
    "\n",
    "#calling the function\n",
    "numerical_df, categorical_df = split_df(customer_df)\n",
    "display(numerical_df)\n",
    "display(categorical_df)"
   ]
  },
  {
   "cell_type": "code",
   "execution_count": null,
   "id": "5fdb6658",
   "metadata": {},
   "outputs": [],
   "source": [
    "# 8. Drop any ID column.\n",
    "categorical_df.drop('customer', axis=1, inplace=True)\n",
    "display(categorical_df)"
   ]
  },
  {
   "cell_type": "code",
   "execution_count": null,
   "id": "78adf287",
   "metadata": {},
   "outputs": [],
   "source": [
    "# 9. Get the correlation matrix for the numerical variables. What is the pair of numerical variables that have the highest correlation? It makes sense, why?\n",
    "correlation_matrix = numerical_df.corr()\n",
    "display(correlation_matrix)\n",
    "\n",
    "sns.heatmap(correlation_matrix, annot=True, cmap='coolwarm', fmt=\".2f\")\n",
    "plt.title(\"Correlation Matrix Heatmap\")\n",
    "plt.show()\n",
    "\n",
    "# The variables with the highest correlation are the monthly_premium_auto and the total_claim_amount\n",
    "# This makes sense because the higher the amount a customer pays for their auto insurance, the more likely the customer is to apply for claims "
   ]
  },
  {
   "cell_type": "code",
   "execution_count": null,
   "id": "d848ab46",
   "metadata": {},
   "outputs": [],
   "source": [
    "# 10. Define a function that takes a pandas DataFrame as an input and returns two pandas DataFrames: the first containing numerical continuous columns and the second containing numerical discrete columns of the input dataframe. To this end, it might be helpful to count the number of unique values. The function **must have an optional argument set by default to 36** to discriminate between continuous and discrete columns. Then, use it to create two new dataframes: continuous_df and discrete_df. \n",
    "def split_continuous_discrete(df: pd.DataFrame, threshhold=36):\n",
    "    continuous_cols=[]\n",
    "    discrete_cols=[]\n",
    "    for col in df.columns:\n",
    "        print(col, df[col].nunique())\n",
    "        if df[col].nunique()>threshhold:\n",
    "            continuous_cols.append(col)\n",
    "        else:\n",
    "            discrete_cols.append(col)\n",
    "    \n",
    "    cont_df = df[continuous_cols]\n",
    "    disc_df = df[discrete_cols]\n",
    "    \n",
    "    return cont_df, disc_df\n",
    "\n",
    "continuous_df, discrete_df= split_continuous_discrete(numerical_df)\n",
    "display(continuous_df)\n",
    "display(discrete_df)"
   ]
  },
  {
   "cell_type": "code",
   "execution_count": null,
   "id": "754e5a40",
   "metadata": {},
   "outputs": [],
   "source": [
    "# 11. Create a function to create a barplot for all the columns of the discrete_df using seaborn, and set the figuresize = (16,16). \n",
    "def plot_bar(df: pd.DataFrame, figsize=(16, 16)):\n",
    "    for col in df.columns:\n",
    "        plt.figure(figsize=figsize)\n",
    "        sns.countplot(x=col, data=df)\n",
    "        plt.xlabel(col)\n",
    "        plt.ylabel('Count')\n",
    "        plt.title(f'Bar Plot for {col}')\n",
    "        plt.show()\n",
    "        \n",
    "plot_bar(discrete_df)"
   ]
  },
  {
   "cell_type": "code",
   "execution_count": null,
   "id": "7573a98d",
   "metadata": {},
   "outputs": [],
   "source": [
    "# 12. Create a function to create a histogram for all the columns of the continuous_df using seaborn, and set the figuresize = (16,16)\n",
    "def plot_hist(df: pd.DataFrame, figsize=(16, 16)):\n",
    "    for col in df.columns:\n",
    "        plt.figure(figsize=figsize)\n",
    "        sns.histplot(df[col], bins='auto')\n",
    "        plt.xlabel(col)\n",
    "        plt.ylabel('Frequency')\n",
    "        plt.title(f'Histogram for {col}')\n",
    "        plt.show()\n",
    "        \n",
    "plot_hist(continuous_df)"
   ]
  },
  {
   "cell_type": "code",
   "execution_count": null,
   "id": "5cbe98b8",
   "metadata": {},
   "outputs": [],
   "source": [
    "# 13. According to the previous histogram plots, do you think that you will have to apply any transformation?\n",
    "# Yes, as the histograms are skewed."
   ]
  },
  {
   "cell_type": "code",
   "execution_count": null,
   "id": "cc4821d7",
   "metadata": {},
   "outputs": [],
   "source": [
    "# 14. Look for outliers in the continuous variables that you have found. Hint: There was a good plot to do that. Define a function to create this kind of plot for the continuous_df.\n",
    "def plot_box(df: pd.DataFrame, figsize=(8,4)):\n",
    "    for col in df.columns:\n",
    "        plt.figure(figsize=figsize)\n",
    "        sns.boxplot(x=df[col])\n",
    "        plt.xlabel(col)\n",
    "        plt.ylabel('Values')\n",
    "        plt.title(f'Box Plot for Outliers of {col}')\n",
    "        plt.show()\n",
    "        \n",
    "plot_box(continuous_df)"
   ]
  }
 ],
 "metadata": {
  "kernelspec": {
   "display_name": "Python 3 (ipykernel)",
   "language": "python",
   "name": "python3"
  },
  "language_info": {
   "codemirror_mode": {
    "name": "ipython",
    "version": 3
   },
   "file_extension": ".py",
   "mimetype": "text/x-python",
   "name": "python",
   "nbconvert_exporter": "python",
   "pygments_lexer": "ipython3",
   "version": "3.11.5"
  }
 },
 "nbformat": 4,
 "nbformat_minor": 5
}
